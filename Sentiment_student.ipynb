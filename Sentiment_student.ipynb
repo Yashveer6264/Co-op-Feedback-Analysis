{
 "cells": [
  {
   "cell_type": "code",
   "execution_count": 1,
   "id": "ca7a01a3-fb23-4afd-aa80-6ecc05c6e9f0",
   "metadata": {},
   "outputs": [],
   "source": [
    "import pandas as pd\n",
    "import numpy as np\n",
    "import matplotlib.pyplot as plt\n",
    "import seaborn as sns\n",
    "\n",
    "plt.style.use('ggplot')\n",
    "\n",
    "import nltk"
   ]
  },
  {
   "cell_type": "code",
   "execution_count": 2,
   "id": "76208731-6c7b-436c-bb48-a407fb2844c1",
   "metadata": {},
   "outputs": [
    {
     "name": "stdout",
     "output_type": "stream",
     "text": [
      "(10071, 16)\n",
      "(10071, 16)\n"
     ]
    }
   ],
   "source": [
    "# Read in data\n",
    "df = pd.read_excel('Student_data_new.xlsx', engine = \"openpyxl\")\n",
    "print(df.shape)\n",
    "\n",
    "print(df.shape)"
   ]
  },
  {
   "cell_type": "markdown",
   "id": "ce17d444-81ed-4f41-bb59-5e6f368f0556",
   "metadata": {},
   "source": [
    "## Basic NLTK"
   ]
  },
  {
   "cell_type": "markdown",
   "id": "fba56dc5-4035-47ff-bf2e-56c0459a8c0a",
   "metadata": {},
   "source": [
    "# Step 1. VADER Seniment Scoring\n",
    "### We will use NLTK's SentimentIntensityAnalyzer to get the neg/neu/pos scores of the text.\n",
    "\n",
    "    This uses a \"bag of words\" approach:\n",
    "    Stop words are removed\n",
    "    each word is scored and combined to a total score."
   ]
  },
  {
   "cell_type": "code",
   "execution_count": 3,
   "id": "83677f3f-4da6-4d02-b39d-f1fc8eb0c660",
   "metadata": {},
   "outputs": [],
   "source": [
    "from nltk.sentiment import SentimentIntensityAnalyzer\n",
    "from tqdm.notebook import tqdm\n",
    "\n",
    "sia = SentimentIntensityAnalyzer()"
   ]
  },
  {
   "cell_type": "code",
   "execution_count": 4,
   "id": "fb841e73-f1fe-498b-afc7-f470aeb92716",
   "metadata": {},
   "outputs": [
    {
     "data": {
      "text/html": [
       "<div>\n",
       "<style scoped>\n",
       "    .dataframe tbody tr th:only-of-type {\n",
       "        vertical-align: middle;\n",
       "    }\n",
       "\n",
       "    .dataframe tbody tr th {\n",
       "        vertical-align: top;\n",
       "    }\n",
       "\n",
       "    .dataframe thead th {\n",
       "        text-align: right;\n",
       "    }\n",
       "</style>\n",
       "<table border=\"1\" class=\"dataframe\">\n",
       "  <thead>\n",
       "    <tr style=\"text-align: right;\">\n",
       "      <th></th>\n",
       "      <th>Respondent ID</th>\n",
       "      <th>Work Terms</th>\n",
       "      <th>Class (BOT)</th>\n",
       "      <th>College Code</th>\n",
       "      <th>Major Code</th>\n",
       "      <th>Coop Conc</th>\n",
       "      <th>Major Conc</th>\n",
       "      <th>Citizenship Status</th>\n",
       "      <th>Co-op #</th>\n",
       "      <th>Classroom activities</th>\n",
       "      <th>Coursework</th>\n",
       "      <th>Most important skills</th>\n",
       "      <th>Skills to develop</th>\n",
       "      <th>What made job interesting</th>\n",
       "      <th>Learn and Focus</th>\n",
       "      <th>year</th>\n",
       "    </tr>\n",
       "  </thead>\n",
       "  <tbody>\n",
       "    <tr>\n",
       "      <th>0</th>\n",
       "      <td>2301</td>\n",
       "      <td>201635-201645</td>\n",
       "      <td>SR</td>\n",
       "      <td>B</td>\n",
       "      <td>ACCT</td>\n",
       "      <td>5COP</td>\n",
       "      <td>NaN</td>\n",
       "      <td>US Citizen</td>\n",
       "      <td>Third/Final</td>\n",
       "      <td>Somewhat prepared me.  Most of the skills I us...</td>\n",
       "      <td>Audit, Accounting, Strategic Management, Opera...</td>\n",
       "      <td>Professionalism, software skills, and how my l...</td>\n",
       "      <td>How to do do better reports.</td>\n",
       "      <td>It was audit, an area I have never tried.</td>\n",
       "      <td>Satisfying my CPA requirements.</td>\n",
       "      <td>2016</td>\n",
       "    </tr>\n",
       "    <tr>\n",
       "      <th>1</th>\n",
       "      <td>2311</td>\n",
       "      <td>201635-201645</td>\n",
       "      <td>JR</td>\n",
       "      <td>B</td>\n",
       "      <td>BAE</td>\n",
       "      <td>5COP</td>\n",
       "      <td>NaN</td>\n",
       "      <td>US Citizen</td>\n",
       "      <td>Third/Final</td>\n",
       "      <td>My classroom activities did not prepare me all...</td>\n",
       "      <td>Technical communications_x000D_\\n</td>\n",
       "      <td>Leadership and organizational skills</td>\n",
       "      <td>Self starter skills</td>\n",
       "      <td>More opportunity to thrive</td>\n",
       "      <td>Construction knowledge</td>\n",
       "      <td>2016</td>\n",
       "    </tr>\n",
       "    <tr>\n",
       "      <th>2</th>\n",
       "      <td>2318</td>\n",
       "      <td>201635-201645</td>\n",
       "      <td>JR</td>\n",
       "      <td>B</td>\n",
       "      <td>FIN</td>\n",
       "      <td>5COP</td>\n",
       "      <td>NaN</td>\n",
       "      <td>US Citizen</td>\n",
       "      <td>First</td>\n",
       "      <td>Even though this co-op was not related to my c...</td>\n",
       "      <td>None</td>\n",
       "      <td>Patience. I had to be patient with customers a...</td>\n",
       "      <td>Learn how to deal with people who are rude.</td>\n",
       "      <td>If I actually got the chance to be a real mana...</td>\n",
       "      <td>I want to develop the skills needed to pursue ...</td>\n",
       "      <td>2016</td>\n",
       "    </tr>\n",
       "    <tr>\n",
       "      <th>3</th>\n",
       "      <td>2168</td>\n",
       "      <td>201625-201635</td>\n",
       "      <td>JR</td>\n",
       "      <td>B</td>\n",
       "      <td>ACCT</td>\n",
       "      <td>5COP</td>\n",
       "      <td>NaN</td>\n",
       "      <td>US Citizen</td>\n",
       "      <td>Third/Final</td>\n",
       "      <td>All of my accounting courses helped me on this...</td>\n",
       "      <td>Accounting</td>\n",
       "      <td>Auditing skills.</td>\n",
       "      <td>I need to study for the CPA and pass all 4 parts.</td>\n",
       "      <td>Working on a greater variety of clients.</td>\n",
       "      <td>Accounting courses.</td>\n",
       "      <td>2016</td>\n",
       "    </tr>\n",
       "    <tr>\n",
       "      <th>4</th>\n",
       "      <td>2343</td>\n",
       "      <td>201635-201645</td>\n",
       "      <td>SR</td>\n",
       "      <td>B</td>\n",
       "      <td>ACCT</td>\n",
       "      <td>5COP</td>\n",
       "      <td>NaN</td>\n",
       "      <td>Non US Citizen</td>\n",
       "      <td>Third/Final</td>\n",
       "      <td>My classroom activities really do not help me ...</td>\n",
       "      <td>Finance and Excel</td>\n",
       "      <td>Excel and Knowledge of E-commerce software's</td>\n",
       "      <td>Writting, Language, Advanced Excel Skills</td>\n",
       "      <td>Higher Hourly Salary</td>\n",
       "      <td>My Writting Skills and improving my English level</td>\n",
       "      <td>2016</td>\n",
       "    </tr>\n",
       "  </tbody>\n",
       "</table>\n",
       "</div>"
      ],
      "text/plain": [
       "   Respondent ID     Work Terms Class (BOT) College Code Major Code Coop Conc  \\\n",
       "0           2301  201635-201645          SR            B       ACCT      5COP   \n",
       "1           2311  201635-201645          JR            B        BAE      5COP   \n",
       "2           2318  201635-201645          JR            B        FIN      5COP   \n",
       "3           2168  201625-201635          JR            B       ACCT      5COP   \n",
       "4           2343  201635-201645          SR            B       ACCT      5COP   \n",
       "\n",
       "  Major Conc Citizenship Status      Co-op #  \\\n",
       "0        NaN         US Citizen  Third/Final   \n",
       "1        NaN         US Citizen  Third/Final   \n",
       "2        NaN         US Citizen        First   \n",
       "3        NaN         US Citizen  Third/Final   \n",
       "4        NaN     Non US Citizen  Third/Final   \n",
       "\n",
       "                                Classroom activities  \\\n",
       "0  Somewhat prepared me.  Most of the skills I us...   \n",
       "1  My classroom activities did not prepare me all...   \n",
       "2  Even though this co-op was not related to my c...   \n",
       "3  All of my accounting courses helped me on this...   \n",
       "4  My classroom activities really do not help me ...   \n",
       "\n",
       "                                          Coursework  \\\n",
       "0  Audit, Accounting, Strategic Management, Opera...   \n",
       "1                  Technical communications_x000D_\\n   \n",
       "2                                               None   \n",
       "3                                         Accounting   \n",
       "4                                  Finance and Excel   \n",
       "\n",
       "                               Most important skills  \\\n",
       "0  Professionalism, software skills, and how my l...   \n",
       "1               Leadership and organizational skills   \n",
       "2  Patience. I had to be patient with customers a...   \n",
       "3                                   Auditing skills.   \n",
       "4       Excel and Knowledge of E-commerce software's   \n",
       "\n",
       "                                   Skills to develop  \\\n",
       "0                       How to do do better reports.   \n",
       "1                                Self starter skills   \n",
       "2        Learn how to deal with people who are rude.   \n",
       "3  I need to study for the CPA and pass all 4 parts.   \n",
       "4          Writting, Language, Advanced Excel Skills   \n",
       "\n",
       "                           What made job interesting  \\\n",
       "0          It was audit, an area I have never tried.   \n",
       "1                         More opportunity to thrive   \n",
       "2  If I actually got the chance to be a real mana...   \n",
       "3           Working on a greater variety of clients.   \n",
       "4                               Higher Hourly Salary   \n",
       "\n",
       "                                     Learn and Focus  year  \n",
       "0                    Satisfying my CPA requirements.  2016  \n",
       "1                             Construction knowledge  2016  \n",
       "2  I want to develop the skills needed to pursue ...  2016  \n",
       "3                                Accounting courses.  2016  \n",
       "4  My Writting Skills and improving my English level  2016  "
      ]
     },
     "execution_count": 4,
     "metadata": {},
     "output_type": "execute_result"
    }
   ],
   "source": [
    "df.head()"
   ]
  },
  {
   "cell_type": "markdown",
   "id": "663f3040-4ff4-4dfc-91cf-e45947370052",
   "metadata": {},
   "source": [
    "# Polarity score on entire data set"
   ]
  },
  {
   "cell_type": "code",
   "execution_count": 5,
   "id": "f8d994e8-4841-4e31-9b58-e7c7c39d5208",
   "metadata": {},
   "outputs": [
    {
     "data": {
      "application/vnd.jupyter.widget-view+json": {
       "model_id": "30855489bc8642f88adfbb54e2e28849",
       "version_major": 2,
       "version_minor": 0
      },
      "text/plain": [
       "  0%|          | 0/10071 [00:00<?, ?it/s]"
      ]
     },
     "metadata": {},
     "output_type": "display_data"
    }
   ],
   "source": [
    "# Run the polarity score on the entire dataset\n",
    "res = {}\n",
    "for i, row in tqdm(df.iterrows(), total=len(df)):\n",
    "    text = row['Classroom activities']\n",
    "    myid = row['Respondent ID']\n",
    "    res[myid] = sia.polarity_scores(str(text))"
   ]
  },
  {
   "cell_type": "code",
   "execution_count": 6,
   "id": "bee456d8-d9ec-4163-837e-a818ae8e35ab",
   "metadata": {},
   "outputs": [
    {
     "data": {
      "text/plain": [
       "{'neg': 0.0, 'neu': 0.878, 'pos': 0.122, 'compound': 0.6908}"
      ]
     },
     "execution_count": 6,
     "metadata": {},
     "output_type": "execute_result"
    }
   ],
   "source": [
    "res[1]"
   ]
  },
  {
   "cell_type": "code",
   "execution_count": 7,
   "id": "7a239889-155a-4964-95dd-8a0880b3a308",
   "metadata": {},
   "outputs": [],
   "source": [
    "senti = pd.DataFrame(res).T"
   ]
  },
  {
   "cell_type": "code",
   "execution_count": 8,
   "id": "aeccab4d-ecf4-44c9-8eab-7e12453d6867",
   "metadata": {},
   "outputs": [],
   "source": [
    "senti = pd.DataFrame(res).T\n",
    "senti = senti.reset_index().rename(columns = {\"index\": \"Respondent ID\", \"compound\": \"Sentiment Score\"})\n",
    "senti = senti.merge(df, how = \"left\")                    "
   ]
  },
  {
   "cell_type": "code",
   "execution_count": 9,
   "id": "43fac917-52bc-46d8-8bf1-2f4485c0d100",
   "metadata": {},
   "outputs": [
    {
     "data": {
      "text/html": [
       "<div>\n",
       "<style scoped>\n",
       "    .dataframe tbody tr th:only-of-type {\n",
       "        vertical-align: middle;\n",
       "    }\n",
       "\n",
       "    .dataframe tbody tr th {\n",
       "        vertical-align: top;\n",
       "    }\n",
       "\n",
       "    .dataframe thead th {\n",
       "        text-align: right;\n",
       "    }\n",
       "</style>\n",
       "<table border=\"1\" class=\"dataframe\">\n",
       "  <thead>\n",
       "    <tr style=\"text-align: right;\">\n",
       "      <th></th>\n",
       "      <th>Respondent ID</th>\n",
       "      <th>neg</th>\n",
       "      <th>neu</th>\n",
       "      <th>pos</th>\n",
       "      <th>Sentiment Score</th>\n",
       "      <th>Work Terms</th>\n",
       "      <th>Class (BOT)</th>\n",
       "      <th>College Code</th>\n",
       "      <th>Major Code</th>\n",
       "      <th>Coop Conc</th>\n",
       "      <th>Major Conc</th>\n",
       "      <th>Citizenship Status</th>\n",
       "      <th>Co-op #</th>\n",
       "      <th>Classroom activities</th>\n",
       "      <th>Coursework</th>\n",
       "      <th>Most important skills</th>\n",
       "      <th>Skills to develop</th>\n",
       "      <th>What made job interesting</th>\n",
       "      <th>Learn and Focus</th>\n",
       "      <th>year</th>\n",
       "    </tr>\n",
       "  </thead>\n",
       "  <tbody>\n",
       "    <tr>\n",
       "      <th>0</th>\n",
       "      <td>2301</td>\n",
       "      <td>0.000</td>\n",
       "      <td>0.890</td>\n",
       "      <td>0.110</td>\n",
       "      <td>0.1548</td>\n",
       "      <td>201635-201645</td>\n",
       "      <td>SR</td>\n",
       "      <td>B</td>\n",
       "      <td>ACCT</td>\n",
       "      <td>5COP</td>\n",
       "      <td>NaN</td>\n",
       "      <td>US Citizen</td>\n",
       "      <td>Third/Final</td>\n",
       "      <td>Somewhat prepared me.  Most of the skills I us...</td>\n",
       "      <td>Audit, Accounting, Strategic Management, Opera...</td>\n",
       "      <td>Professionalism, software skills, and how my l...</td>\n",
       "      <td>How to do do better reports.</td>\n",
       "      <td>It was audit, an area I have never tried.</td>\n",
       "      <td>Satisfying my CPA requirements.</td>\n",
       "      <td>2016</td>\n",
       "    </tr>\n",
       "    <tr>\n",
       "      <th>1</th>\n",
       "      <td>2311</td>\n",
       "      <td>0.000</td>\n",
       "      <td>0.937</td>\n",
       "      <td>0.063</td>\n",
       "      <td>0.2732</td>\n",
       "      <td>201635-201645</td>\n",
       "      <td>JR</td>\n",
       "      <td>B</td>\n",
       "      <td>BAE</td>\n",
       "      <td>5COP</td>\n",
       "      <td>NaN</td>\n",
       "      <td>US Citizen</td>\n",
       "      <td>Third/Final</td>\n",
       "      <td>My classroom activities did not prepare me all...</td>\n",
       "      <td>Technical communications_x000D_\\n</td>\n",
       "      <td>Leadership and organizational skills</td>\n",
       "      <td>Self starter skills</td>\n",
       "      <td>More opportunity to thrive</td>\n",
       "      <td>Construction knowledge</td>\n",
       "      <td>2016</td>\n",
       "    </tr>\n",
       "    <tr>\n",
       "      <th>2</th>\n",
       "      <td>2318</td>\n",
       "      <td>0.000</td>\n",
       "      <td>0.808</td>\n",
       "      <td>0.192</td>\n",
       "      <td>0.9964</td>\n",
       "      <td>201635-201645</td>\n",
       "      <td>JR</td>\n",
       "      <td>B</td>\n",
       "      <td>FIN</td>\n",
       "      <td>5COP</td>\n",
       "      <td>NaN</td>\n",
       "      <td>US Citizen</td>\n",
       "      <td>First</td>\n",
       "      <td>Even though this co-op was not related to my c...</td>\n",
       "      <td>None</td>\n",
       "      <td>Patience. I had to be patient with customers a...</td>\n",
       "      <td>Learn how to deal with people who are rude.</td>\n",
       "      <td>If I actually got the chance to be a real mana...</td>\n",
       "      <td>I want to develop the skills needed to pursue ...</td>\n",
       "      <td>2016</td>\n",
       "    </tr>\n",
       "    <tr>\n",
       "      <th>3</th>\n",
       "      <td>2318</td>\n",
       "      <td>0.000</td>\n",
       "      <td>0.808</td>\n",
       "      <td>0.192</td>\n",
       "      <td>0.9964</td>\n",
       "      <td>201535-201535</td>\n",
       "      <td>SR</td>\n",
       "      <td>B</td>\n",
       "      <td>MKTG</td>\n",
       "      <td>5COP</td>\n",
       "      <td>NaN</td>\n",
       "      <td>Non US Citizen</td>\n",
       "      <td>Third</td>\n",
       "      <td>_x000D_\\nSome of the things that I have defini...</td>\n",
       "      <td>com270</td>\n",
       "      <td>Communication and fast thinking skills.</td>\n",
       "      <td>Multi-tasking and prioritizing.</td>\n",
       "      <td>None</td>\n",
       "      <td>More digital marketing and event planning.</td>\n",
       "      <td>2015</td>\n",
       "    </tr>\n",
       "    <tr>\n",
       "      <th>4</th>\n",
       "      <td>2168</td>\n",
       "      <td>0.128</td>\n",
       "      <td>0.872</td>\n",
       "      <td>0.000</td>\n",
       "      <td>-0.2960</td>\n",
       "      <td>201625-201635</td>\n",
       "      <td>JR</td>\n",
       "      <td>B</td>\n",
       "      <td>ACCT</td>\n",
       "      <td>5COP</td>\n",
       "      <td>NaN</td>\n",
       "      <td>US Citizen</td>\n",
       "      <td>Third/Final</td>\n",
       "      <td>All of my accounting courses helped me on this...</td>\n",
       "      <td>Accounting</td>\n",
       "      <td>Auditing skills.</td>\n",
       "      <td>I need to study for the CPA and pass all 4 parts.</td>\n",
       "      <td>Working on a greater variety of clients.</td>\n",
       "      <td>Accounting courses.</td>\n",
       "      <td>2016</td>\n",
       "    </tr>\n",
       "  </tbody>\n",
       "</table>\n",
       "</div>"
      ],
      "text/plain": [
       "   Respondent ID    neg    neu    pos  Sentiment Score     Work Terms  \\\n",
       "0           2301  0.000  0.890  0.110           0.1548  201635-201645   \n",
       "1           2311  0.000  0.937  0.063           0.2732  201635-201645   \n",
       "2           2318  0.000  0.808  0.192           0.9964  201635-201645   \n",
       "3           2318  0.000  0.808  0.192           0.9964  201535-201535   \n",
       "4           2168  0.128  0.872  0.000          -0.2960  201625-201635   \n",
       "\n",
       "  Class (BOT) College Code Major Code Coop Conc Major Conc Citizenship Status  \\\n",
       "0          SR            B       ACCT      5COP        NaN         US Citizen   \n",
       "1          JR            B        BAE      5COP        NaN         US Citizen   \n",
       "2          JR            B        FIN      5COP        NaN         US Citizen   \n",
       "3          SR            B       MKTG      5COP        NaN     Non US Citizen   \n",
       "4          JR            B       ACCT      5COP        NaN         US Citizen   \n",
       "\n",
       "       Co-op #                               Classroom activities  \\\n",
       "0  Third/Final  Somewhat prepared me.  Most of the skills I us...   \n",
       "1  Third/Final  My classroom activities did not prepare me all...   \n",
       "2        First  Even though this co-op was not related to my c...   \n",
       "3        Third  _x000D_\\nSome of the things that I have defini...   \n",
       "4  Third/Final  All of my accounting courses helped me on this...   \n",
       "\n",
       "                                          Coursework  \\\n",
       "0  Audit, Accounting, Strategic Management, Opera...   \n",
       "1                  Technical communications_x000D_\\n   \n",
       "2                                               None   \n",
       "3                                             com270   \n",
       "4                                         Accounting   \n",
       "\n",
       "                               Most important skills  \\\n",
       "0  Professionalism, software skills, and how my l...   \n",
       "1               Leadership and organizational skills   \n",
       "2  Patience. I had to be patient with customers a...   \n",
       "3            Communication and fast thinking skills.   \n",
       "4                                   Auditing skills.   \n",
       "\n",
       "                                   Skills to develop  \\\n",
       "0                       How to do do better reports.   \n",
       "1                                Self starter skills   \n",
       "2        Learn how to deal with people who are rude.   \n",
       "3                    Multi-tasking and prioritizing.   \n",
       "4  I need to study for the CPA and pass all 4 parts.   \n",
       "\n",
       "                           What made job interesting  \\\n",
       "0          It was audit, an area I have never tried.   \n",
       "1                         More opportunity to thrive   \n",
       "2  If I actually got the chance to be a real mana...   \n",
       "3                                               None   \n",
       "4           Working on a greater variety of clients.   \n",
       "\n",
       "                                     Learn and Focus  year  \n",
       "0                    Satisfying my CPA requirements.  2016  \n",
       "1                             Construction knowledge  2016  \n",
       "2  I want to develop the skills needed to pursue ...  2016  \n",
       "3         More digital marketing and event planning.  2015  \n",
       "4                                Accounting courses.  2016  "
      ]
     },
     "execution_count": 9,
     "metadata": {},
     "output_type": "execute_result"
    }
   ],
   "source": [
    "senti.head()"
   ]
  },
  {
   "cell_type": "markdown",
   "id": "4561013e-721d-40d2-b6a3-4c35d36e8c2d",
   "metadata": {},
   "source": [
    "## Sentiment score and our data set merged together"
   ]
  },
  {
   "cell_type": "code",
   "execution_count": 10,
   "id": "309c8526-55c3-4864-8d42-35abf4db94a1",
   "metadata": {},
   "outputs": [
    {
     "data": {
      "text/html": [
       "<div>\n",
       "<style scoped>\n",
       "    .dataframe tbody tr th:only-of-type {\n",
       "        vertical-align: middle;\n",
       "    }\n",
       "\n",
       "    .dataframe tbody tr th {\n",
       "        vertical-align: top;\n",
       "    }\n",
       "\n",
       "    .dataframe thead th {\n",
       "        text-align: right;\n",
       "    }\n",
       "</style>\n",
       "<table border=\"1\" class=\"dataframe\">\n",
       "  <thead>\n",
       "    <tr style=\"text-align: right;\">\n",
       "      <th></th>\n",
       "      <th>Respondent ID</th>\n",
       "      <th>neg</th>\n",
       "      <th>neu</th>\n",
       "      <th>pos</th>\n",
       "      <th>Sentiment Score</th>\n",
       "      <th>Work Terms</th>\n",
       "      <th>Class (BOT)</th>\n",
       "      <th>College Code</th>\n",
       "      <th>Major Code</th>\n",
       "      <th>Coop Conc</th>\n",
       "      <th>Major Conc</th>\n",
       "      <th>Citizenship Status</th>\n",
       "      <th>Co-op #</th>\n",
       "      <th>Classroom activities</th>\n",
       "      <th>Coursework</th>\n",
       "      <th>Most important skills</th>\n",
       "      <th>Skills to develop</th>\n",
       "      <th>What made job interesting</th>\n",
       "      <th>Learn and Focus</th>\n",
       "      <th>year</th>\n",
       "    </tr>\n",
       "  </thead>\n",
       "  <tbody>\n",
       "    <tr>\n",
       "      <th>0</th>\n",
       "      <td>2301</td>\n",
       "      <td>0.000</td>\n",
       "      <td>0.890</td>\n",
       "      <td>0.110</td>\n",
       "      <td>0.1548</td>\n",
       "      <td>201635-201645</td>\n",
       "      <td>SR</td>\n",
       "      <td>B</td>\n",
       "      <td>ACCT</td>\n",
       "      <td>5COP</td>\n",
       "      <td>NaN</td>\n",
       "      <td>US Citizen</td>\n",
       "      <td>Third/Final</td>\n",
       "      <td>Somewhat prepared me.  Most of the skills I us...</td>\n",
       "      <td>Audit, Accounting, Strategic Management, Opera...</td>\n",
       "      <td>Professionalism, software skills, and how my l...</td>\n",
       "      <td>How to do do better reports.</td>\n",
       "      <td>It was audit, an area I have never tried.</td>\n",
       "      <td>Satisfying my CPA requirements.</td>\n",
       "      <td>2016</td>\n",
       "    </tr>\n",
       "    <tr>\n",
       "      <th>1</th>\n",
       "      <td>2311</td>\n",
       "      <td>0.000</td>\n",
       "      <td>0.937</td>\n",
       "      <td>0.063</td>\n",
       "      <td>0.2732</td>\n",
       "      <td>201635-201645</td>\n",
       "      <td>JR</td>\n",
       "      <td>B</td>\n",
       "      <td>BAE</td>\n",
       "      <td>5COP</td>\n",
       "      <td>NaN</td>\n",
       "      <td>US Citizen</td>\n",
       "      <td>Third/Final</td>\n",
       "      <td>My classroom activities did not prepare me all...</td>\n",
       "      <td>Technical communications_x000D_\\n</td>\n",
       "      <td>Leadership and organizational skills</td>\n",
       "      <td>Self starter skills</td>\n",
       "      <td>More opportunity to thrive</td>\n",
       "      <td>Construction knowledge</td>\n",
       "      <td>2016</td>\n",
       "    </tr>\n",
       "    <tr>\n",
       "      <th>2</th>\n",
       "      <td>2318</td>\n",
       "      <td>0.000</td>\n",
       "      <td>0.808</td>\n",
       "      <td>0.192</td>\n",
       "      <td>0.9964</td>\n",
       "      <td>201635-201645</td>\n",
       "      <td>JR</td>\n",
       "      <td>B</td>\n",
       "      <td>FIN</td>\n",
       "      <td>5COP</td>\n",
       "      <td>NaN</td>\n",
       "      <td>US Citizen</td>\n",
       "      <td>First</td>\n",
       "      <td>Even though this co-op was not related to my c...</td>\n",
       "      <td>None</td>\n",
       "      <td>Patience. I had to be patient with customers a...</td>\n",
       "      <td>Learn how to deal with people who are rude.</td>\n",
       "      <td>If I actually got the chance to be a real mana...</td>\n",
       "      <td>I want to develop the skills needed to pursue ...</td>\n",
       "      <td>2016</td>\n",
       "    </tr>\n",
       "    <tr>\n",
       "      <th>3</th>\n",
       "      <td>2318</td>\n",
       "      <td>0.000</td>\n",
       "      <td>0.808</td>\n",
       "      <td>0.192</td>\n",
       "      <td>0.9964</td>\n",
       "      <td>201535-201535</td>\n",
       "      <td>SR</td>\n",
       "      <td>B</td>\n",
       "      <td>MKTG</td>\n",
       "      <td>5COP</td>\n",
       "      <td>NaN</td>\n",
       "      <td>Non US Citizen</td>\n",
       "      <td>Third</td>\n",
       "      <td>_x000D_\\nSome of the things that I have defini...</td>\n",
       "      <td>com270</td>\n",
       "      <td>Communication and fast thinking skills.</td>\n",
       "      <td>Multi-tasking and prioritizing.</td>\n",
       "      <td>None</td>\n",
       "      <td>More digital marketing and event planning.</td>\n",
       "      <td>2015</td>\n",
       "    </tr>\n",
       "    <tr>\n",
       "      <th>4</th>\n",
       "      <td>2168</td>\n",
       "      <td>0.128</td>\n",
       "      <td>0.872</td>\n",
       "      <td>0.000</td>\n",
       "      <td>-0.2960</td>\n",
       "      <td>201625-201635</td>\n",
       "      <td>JR</td>\n",
       "      <td>B</td>\n",
       "      <td>ACCT</td>\n",
       "      <td>5COP</td>\n",
       "      <td>NaN</td>\n",
       "      <td>US Citizen</td>\n",
       "      <td>Third/Final</td>\n",
       "      <td>All of my accounting courses helped me on this...</td>\n",
       "      <td>Accounting</td>\n",
       "      <td>Auditing skills.</td>\n",
       "      <td>I need to study for the CPA and pass all 4 parts.</td>\n",
       "      <td>Working on a greater variety of clients.</td>\n",
       "      <td>Accounting courses.</td>\n",
       "      <td>2016</td>\n",
       "    </tr>\n",
       "  </tbody>\n",
       "</table>\n",
       "</div>"
      ],
      "text/plain": [
       "   Respondent ID    neg    neu    pos  Sentiment Score     Work Terms  \\\n",
       "0           2301  0.000  0.890  0.110           0.1548  201635-201645   \n",
       "1           2311  0.000  0.937  0.063           0.2732  201635-201645   \n",
       "2           2318  0.000  0.808  0.192           0.9964  201635-201645   \n",
       "3           2318  0.000  0.808  0.192           0.9964  201535-201535   \n",
       "4           2168  0.128  0.872  0.000          -0.2960  201625-201635   \n",
       "\n",
       "  Class (BOT) College Code Major Code Coop Conc Major Conc Citizenship Status  \\\n",
       "0          SR            B       ACCT      5COP        NaN         US Citizen   \n",
       "1          JR            B        BAE      5COP        NaN         US Citizen   \n",
       "2          JR            B        FIN      5COP        NaN         US Citizen   \n",
       "3          SR            B       MKTG      5COP        NaN     Non US Citizen   \n",
       "4          JR            B       ACCT      5COP        NaN         US Citizen   \n",
       "\n",
       "       Co-op #                               Classroom activities  \\\n",
       "0  Third/Final  Somewhat prepared me.  Most of the skills I us...   \n",
       "1  Third/Final  My classroom activities did not prepare me all...   \n",
       "2        First  Even though this co-op was not related to my c...   \n",
       "3        Third  _x000D_\\nSome of the things that I have defini...   \n",
       "4  Third/Final  All of my accounting courses helped me on this...   \n",
       "\n",
       "                                          Coursework  \\\n",
       "0  Audit, Accounting, Strategic Management, Opera...   \n",
       "1                  Technical communications_x000D_\\n   \n",
       "2                                               None   \n",
       "3                                             com270   \n",
       "4                                         Accounting   \n",
       "\n",
       "                               Most important skills  \\\n",
       "0  Professionalism, software skills, and how my l...   \n",
       "1               Leadership and organizational skills   \n",
       "2  Patience. I had to be patient with customers a...   \n",
       "3            Communication and fast thinking skills.   \n",
       "4                                   Auditing skills.   \n",
       "\n",
       "                                   Skills to develop  \\\n",
       "0                       How to do do better reports.   \n",
       "1                                Self starter skills   \n",
       "2        Learn how to deal with people who are rude.   \n",
       "3                    Multi-tasking and prioritizing.   \n",
       "4  I need to study for the CPA and pass all 4 parts.   \n",
       "\n",
       "                           What made job interesting  \\\n",
       "0          It was audit, an area I have never tried.   \n",
       "1                         More opportunity to thrive   \n",
       "2  If I actually got the chance to be a real mana...   \n",
       "3                                               None   \n",
       "4           Working on a greater variety of clients.   \n",
       "\n",
       "                                     Learn and Focus  year  \n",
       "0                    Satisfying my CPA requirements.  2016  \n",
       "1                             Construction knowledge  2016  \n",
       "2  I want to develop the skills needed to pursue ...  2016  \n",
       "3         More digital marketing and event planning.  2015  \n",
       "4                                Accounting courses.  2016  "
      ]
     },
     "execution_count": 10,
     "metadata": {},
     "output_type": "execute_result"
    }
   ],
   "source": [
    "senti.head()"
   ]
  },
  {
   "cell_type": "code",
   "execution_count": 11,
   "id": "dbb0ab78-231a-462d-8381-f2674a90a0c7",
   "metadata": {},
   "outputs": [
    {
     "data": {
      "image/png": "[encoded data removed]",
      "text/plain": [
       "<Figure size 432x288 with 1 Axes>"
      ]
     },
     "metadata": {
      "needs_background": "light"
     },
     "output_type": "display_data"
    }
   ],
   "source": [
    "\n",
    "ax = sns.barplot(data=senti, x='year', y='Sentiment Score', estimator='mean', errorbar=('ci', 95))\n",
    "\n",
    "ax.set_title('Classroom activities\" by year')\n",
    "plt.show()"
   ]
  },
  {
   "cell_type": "code",
   "execution_count": 12,
   "id": "1b9d9391-2af1-4d8e-8949-53a5afac7091",
   "metadata": {},
   "outputs": [
    {
     "data": {
      "text/html": [
       "<div>\n",
       "<style scoped>\n",
       "    .dataframe tbody tr th:only-of-type {\n",
       "        vertical-align: middle;\n",
       "    }\n",
       "\n",
       "    .dataframe tbody tr th {\n",
       "        vertical-align: top;\n",
       "    }\n",
       "\n",
       "    .dataframe thead th {\n",
       "        text-align: right;\n",
       "    }\n",
       "</style>\n",
       "<table border=\"1\" class=\"dataframe\">\n",
       "  <thead>\n",
       "    <tr style=\"text-align: right;\">\n",
       "      <th></th>\n",
       "      <th>Respondent ID</th>\n",
       "      <th>neg</th>\n",
       "      <th>neu</th>\n",
       "      <th>pos</th>\n",
       "      <th>Sentiment Score</th>\n",
       "      <th>Work Terms</th>\n",
       "      <th>Class (BOT)</th>\n",
       "      <th>College Code</th>\n",
       "      <th>Major Code</th>\n",
       "      <th>Coop Conc</th>\n",
       "      <th>...</th>\n",
       "      <th>Citizenship Status</th>\n",
       "      <th>Co-op #</th>\n",
       "      <th>Classroom activities</th>\n",
       "      <th>Coursework</th>\n",
       "      <th>Most important skills</th>\n",
       "      <th>Skills to develop</th>\n",
       "      <th>What made job interesting</th>\n",
       "      <th>Learn and Focus</th>\n",
       "      <th>year</th>\n",
       "      <th>sentiment</th>\n",
       "    </tr>\n",
       "  </thead>\n",
       "  <tbody>\n",
       "    <tr>\n",
       "      <th>0</th>\n",
       "      <td>2301</td>\n",
       "      <td>0.000</td>\n",
       "      <td>0.890</td>\n",
       "      <td>0.110</td>\n",
       "      <td>0.1548</td>\n",
       "      <td>201635-201645</td>\n",
       "      <td>SR</td>\n",
       "      <td>B</td>\n",
       "      <td>ACCT</td>\n",
       "      <td>5COP</td>\n",
       "      <td>...</td>\n",
       "      <td>US Citizen</td>\n",
       "      <td>Third/Final</td>\n",
       "      <td>Somewhat prepared me.  Most of the skills I us...</td>\n",
       "      <td>Audit, Accounting, Strategic Management, Opera...</td>\n",
       "      <td>Professionalism, software skills, and how my l...</td>\n",
       "      <td>How to do do better reports.</td>\n",
       "      <td>It was audit, an area I have never tried.</td>\n",
       "      <td>Satisfying my CPA requirements.</td>\n",
       "      <td>2016</td>\n",
       "      <td>Neutral</td>\n",
       "    </tr>\n",
       "    <tr>\n",
       "      <th>1</th>\n",
       "      <td>2311</td>\n",
       "      <td>0.000</td>\n",
       "      <td>0.937</td>\n",
       "      <td>0.063</td>\n",
       "      <td>0.2732</td>\n",
       "      <td>201635-201645</td>\n",
       "      <td>JR</td>\n",
       "      <td>B</td>\n",
       "      <td>BAE</td>\n",
       "      <td>5COP</td>\n",
       "      <td>...</td>\n",
       "      <td>US Citizen</td>\n",
       "      <td>Third/Final</td>\n",
       "      <td>My classroom activities did not prepare me all...</td>\n",
       "      <td>Technical communications_x000D_\\n</td>\n",
       "      <td>Leadership and organizational skills</td>\n",
       "      <td>Self starter skills</td>\n",
       "      <td>More opportunity to thrive</td>\n",
       "      <td>Construction knowledge</td>\n",
       "      <td>2016</td>\n",
       "      <td>Neutral</td>\n",
       "    </tr>\n",
       "    <tr>\n",
       "      <th>2</th>\n",
       "      <td>2318</td>\n",
       "      <td>0.000</td>\n",
       "      <td>0.808</td>\n",
       "      <td>0.192</td>\n",
       "      <td>0.9964</td>\n",
       "      <td>201635-201645</td>\n",
       "      <td>JR</td>\n",
       "      <td>B</td>\n",
       "      <td>FIN</td>\n",
       "      <td>5COP</td>\n",
       "      <td>...</td>\n",
       "      <td>US Citizen</td>\n",
       "      <td>First</td>\n",
       "      <td>Even though this co-op was not related to my c...</td>\n",
       "      <td>None</td>\n",
       "      <td>Patience. I had to be patient with customers a...</td>\n",
       "      <td>Learn how to deal with people who are rude.</td>\n",
       "      <td>If I actually got the chance to be a real mana...</td>\n",
       "      <td>I want to develop the skills needed to pursue ...</td>\n",
       "      <td>2016</td>\n",
       "      <td>Positive</td>\n",
       "    </tr>\n",
       "    <tr>\n",
       "      <th>3</th>\n",
       "      <td>2318</td>\n",
       "      <td>0.000</td>\n",
       "      <td>0.808</td>\n",
       "      <td>0.192</td>\n",
       "      <td>0.9964</td>\n",
       "      <td>201535-201535</td>\n",
       "      <td>SR</td>\n",
       "      <td>B</td>\n",
       "      <td>MKTG</td>\n",
       "      <td>5COP</td>\n",
       "      <td>...</td>\n",
       "      <td>Non US Citizen</td>\n",
       "      <td>Third</td>\n",
       "      <td>_x000D_\\nSome of the things that I have defini...</td>\n",
       "      <td>com270</td>\n",
       "      <td>Communication and fast thinking skills.</td>\n",
       "      <td>Multi-tasking and prioritizing.</td>\n",
       "      <td>None</td>\n",
       "      <td>More digital marketing and event planning.</td>\n",
       "      <td>2015</td>\n",
       "      <td>Positive</td>\n",
       "    </tr>\n",
       "    <tr>\n",
       "      <th>4</th>\n",
       "      <td>2168</td>\n",
       "      <td>0.128</td>\n",
       "      <td>0.872</td>\n",
       "      <td>0.000</td>\n",
       "      <td>-0.2960</td>\n",
       "      <td>201625-201635</td>\n",
       "      <td>JR</td>\n",
       "      <td>B</td>\n",
       "      <td>ACCT</td>\n",
       "      <td>5COP</td>\n",
       "      <td>...</td>\n",
       "      <td>US Citizen</td>\n",
       "      <td>Third/Final</td>\n",
       "      <td>All of my accounting courses helped me on this...</td>\n",
       "      <td>Accounting</td>\n",
       "      <td>Auditing skills.</td>\n",
       "      <td>I need to study for the CPA and pass all 4 parts.</td>\n",
       "      <td>Working on a greater variety of clients.</td>\n",
       "      <td>Accounting courses.</td>\n",
       "      <td>2016</td>\n",
       "      <td>Negative</td>\n",
       "    </tr>\n",
       "  </tbody>\n",
       "</table>\n",
       "<p>5 rows × 21 columns</p>\n",
       "</div>"
      ],
      "text/plain": [
       "   Respondent ID    neg    neu    pos  Sentiment Score     Work Terms  \\\n",
       "0           2301  0.000  0.890  0.110           0.1548  201635-201645   \n",
       "1           2311  0.000  0.937  0.063           0.2732  201635-201645   \n",
       "2           2318  0.000  0.808  0.192           0.9964  201635-201645   \n",
       "3           2318  0.000  0.808  0.192           0.9964  201535-201535   \n",
       "4           2168  0.128  0.872  0.000          -0.2960  201625-201635   \n",
       "\n",
       "  Class (BOT) College Code Major Code Coop Conc  ... Citizenship Status  \\\n",
       "0          SR            B       ACCT      5COP  ...         US Citizen   \n",
       "1          JR            B        BAE      5COP  ...         US Citizen   \n",
       "2          JR            B        FIN      5COP  ...         US Citizen   \n",
       "3          SR            B       MKTG      5COP  ...     Non US Citizen   \n",
       "4          JR            B       ACCT      5COP  ...         US Citizen   \n",
       "\n",
       "       Co-op #                               Classroom activities  \\\n",
       "0  Third/Final  Somewhat prepared me.  Most of the skills I us...   \n",
       "1  Third/Final  My classroom activities did not prepare me all...   \n",
       "2        First  Even though this co-op was not related to my c...   \n",
       "3        Third  _x000D_\\nSome of the things that I have defini...   \n",
       "4  Third/Final  All of my accounting courses helped me on this...   \n",
       "\n",
       "                                          Coursework  \\\n",
       "0  Audit, Accounting, Strategic Management, Opera...   \n",
       "1                  Technical communications_x000D_\\n   \n",
       "2                                               None   \n",
       "3                                             com270   \n",
       "4                                         Accounting   \n",
       "\n",
       "                               Most important skills  \\\n",
       "0  Professionalism, software skills, and how my l...   \n",
       "1               Leadership and organizational skills   \n",
       "2  Patience. I had to be patient with customers a...   \n",
       "3            Communication and fast thinking skills.   \n",
       "4                                   Auditing skills.   \n",
       "\n",
       "                                   Skills to develop  \\\n",
       "0                       How to do do better reports.   \n",
       "1                                Self starter skills   \n",
       "2        Learn how to deal with people who are rude.   \n",
       "3                    Multi-tasking and prioritizing.   \n",
       "4  I need to study for the CPA and pass all 4 parts.   \n",
       "\n",
       "                           What made job interesting  \\\n",
       "0          It was audit, an area I have never tried.   \n",
       "1                         More opportunity to thrive   \n",
       "2  If I actually got the chance to be a real mana...   \n",
       "3                                               None   \n",
       "4           Working on a greater variety of clients.   \n",
       "\n",
       "                                     Learn and Focus  year  sentiment  \n",
       "0                    Satisfying my CPA requirements.  2016    Neutral  \n",
       "1                             Construction knowledge  2016    Neutral  \n",
       "2  I want to develop the skills needed to pursue ...  2016   Positive  \n",
       "3         More digital marketing and event planning.  2015   Positive  \n",
       "4                                Accounting courses.  2016   Negative  \n",
       "\n",
       "[5 rows x 21 columns]"
      ]
     },
     "execution_count": 12,
     "metadata": {},
     "output_type": "execute_result"
    }
   ],
   "source": [
    "senti['sentiment'] = senti['Sentiment Score'].apply(lambda c: 'Positive' if c >=0.5 else ('Negative' if c < 0 else 'Neutral'))\n",
    "\n",
    "senti.head(5)"
   ]
  },
  {
   "cell_type": "code",
   "execution_count": 13,
   "id": "dae3306c-7562-4a4a-aa5c-1a00a5fc7e14",
   "metadata": {},
   "outputs": [
    {
     "data": {
      "text/plain": [
       "<AxesSubplot:title={'center':'All years'}, ylabel='sentiment'>"
      ]
     },
     "execution_count": 13,
     "metadata": {},
     "output_type": "execute_result"
    },
    {
     "data": {
      "image/png": "[encoded data removed]",
      "text/plain": [
       "<Figure size 432x288 with 1 Axes>"
      ]
     },
     "metadata": {},
     "output_type": "display_data"
    }
   ],
   "source": [
    "senti[\"sentiment\"].value_counts().plot.pie(y='All years', title=\"All years\", legend=False, \\\n",
    "                   autopct='%1.1f%%', explode=(0, 0, 0.1), \\\n",
    "                   shadow=True, startangle=0)"
   ]
  },
  {
   "cell_type": "code",
   "execution_count": 14,
   "id": "101bc234-aab0-45d5-b8c7-d78940a972c6",
   "metadata": {},
   "outputs": [
    {
     "data": {
      "text/plain": [
       "<AxesSubplot:title={'center':'2016'}, ylabel='sentiment'>"
      ]
     },
     "execution_count": 14,
     "metadata": {},
     "output_type": "execute_result"
    },
    {
     "data": {
      "image/png": "[encoded data removed]",
      "text/plain": [
       "<Figure size 432x288 with 1 Axes>"
      ]
     },
     "metadata": {},
     "output_type": "display_data"
    }
   ],
   "source": [
    "filt = senti[\"year\"] == 2016\n",
    "senti.loc[filt][\"sentiment\"].value_counts().plot.pie(y='All years', title=\"2016\", legend=False, \\\n",
    "                   autopct='%1.1f%%', explode=(0, 0, 0.1), \\\n",
    "                   shadow=True, startangle=0)\n"
   ]
  },
  {
   "cell_type": "code",
   "execution_count": 15,
   "id": "2b1acf84-66ce-48d6-ae55-bb632b00fb8b",
   "metadata": {},
   "outputs": [
    {
     "data": {
      "text/plain": [
       "<AxesSubplot:title={'center':'2015'}, ylabel='sentiment'>"
      ]
     },
     "execution_count": 15,
     "metadata": {},
     "output_type": "execute_result"
    },
    {
     "data": {
      "image/png": "[encoded data removed]",
      "text/plain": [
       "<Figure size 432x288 with 1 Axes>"
      ]
     },
     "metadata": {},
     "output_type": "display_data"
    }
   ],
   "source": [
    "filt = senti[\"year\"] == 2015\n",
    "senti.loc[filt][\"sentiment\"].value_counts().plot.pie(y='All years', title=\"2015\", legend=False, \\\n",
    "                   autopct='%1.1f%%', explode=(0, 0, 0.1), \\\n",
    "                   shadow=True, startangle=0)"
   ]
  },
  {
   "cell_type": "code",
   "execution_count": 16,
   "id": "1220a1df-5ac1-4766-ad41-2e209f3be8d0",
   "metadata": {},
   "outputs": [
    {
     "data": {
      "text/plain": [
       "<AxesSubplot:title={'center':'2017'}, ylabel='sentiment'>"
      ]
     },
     "execution_count": 16,
     "metadata": {},
     "output_type": "execute_result"
    },
    {
     "data": {
      "image/png": "[encoded data removed]",
      "text/plain": [
       "<Figure size 432x288 with 1 Axes>"
      ]
     },
     "metadata": {},
     "output_type": "display_data"
    }
   ],
   "source": [
    "filt = senti[\"year\"] == 2017\n",
    "senti.loc[filt][\"sentiment\"].value_counts().plot.pie(y='All years', title=\"2017\", legend=False, \\\n",
    "                   autopct='%1.1f%%', explode=(0, 0, 0.1), \\\n",
    "                   shadow=True, startangle=0)"
   ]
  },
  {
   "cell_type": "code",
   "execution_count": 17,
   "id": "7d0ced1b-630f-474e-a4f4-7fccb29d02a3",
   "metadata": {},
   "outputs": [
    {
     "data": {
      "text/plain": [
       "<AxesSubplot:title={'center':'2018'}, ylabel='sentiment'>"
      ]
     },
     "execution_count": 17,
     "metadata": {},
     "output_type": "execute_result"
    },
    {
     "data": {
      "image/png": "[encoded data removed]",
      "text/plain": [
       "<Figure size 432x288 with 1 Axes>"
      ]
     },
     "metadata": {},
     "output_type": "display_data"
    }
   ],
   "source": [
    "filt = senti[\"year\"] == 2018\n",
    "senti.loc[filt][\"sentiment\"].value_counts().plot.pie(y='All years', title=\"2018\", legend=False, \\\n",
    "                   autopct='%1.1f%%', explode=(0, 0, 0.1), \\\n",
    "                   shadow=True, startangle=0)"
   ]
  },
  {
   "cell_type": "code",
   "execution_count": 18,
   "id": "a3f32286-652e-4cea-8dd2-d1725bf7f109",
   "metadata": {},
   "outputs": [
    {
     "data": {
      "text/plain": [
       "<AxesSubplot:title={'center':'2019'}, ylabel='sentiment'>"
      ]
     },
     "execution_count": 18,
     "metadata": {},
     "output_type": "execute_result"
    },
    {
     "data": {
      "image/png": "[encoded data removed]",
      "text/plain": [
       "<Figure size 432x288 with 1 Axes>"
      ]
     },
     "metadata": {},
     "output_type": "display_data"
    }
   ],
   "source": [
    "filt = senti[\"year\"] == 2019\n",
    "senti.loc[filt][\"sentiment\"].value_counts().plot.pie(y='All years', title=\"2019\", legend=False, \\\n",
    "                   autopct='%1.1f%%', explode=(0, 0, 0.1), \\\n",
    "                   shadow=True, startangle=0)"
   ]
  },
  {
   "cell_type": "code",
   "execution_count": 19,
   "id": "f4f383f9-0a70-4000-b4d2-e48cdf460da0",
   "metadata": {},
   "outputs": [
    {
     "data": {
      "text/plain": [
       "<AxesSubplot:title={'center':'2020'}, ylabel='sentiment'>"
      ]
     },
     "execution_count": 19,
     "metadata": {},
     "output_type": "execute_result"
    },
    {
     "data": {
      "image/png": "[encoded data removed]",
      "text/plain": [
       "<Figure size 432x288 with 1 Axes>"
      ]
     },
     "metadata": {},
     "output_type": "display_data"
    }
   ],
   "source": [
    "filt = senti[\"year\"] == 2020\n",
    "senti.loc[filt][\"sentiment\"].value_counts().plot.pie(y='All years', title=\"2020\", legend=False, \\\n",
    "                   autopct='%1.1f%%', explode=(0, 0, 0.1), \\\n",
    "                   shadow=True, startangle=0)"
   ]
  },
  {
   "cell_type": "code",
   "execution_count": null,
   "id": "ce16af19-90c6-49a2-9396-b0a1a93e4990",
   "metadata": {},
   "outputs": [],
   "source": []
  },
  {
   "cell_type": "code",
   "execution_count": null,
   "id": "d9f1f9a2-4376-42dc-876f-d113b32318a5",
   "metadata": {},
   "outputs": [],
   "source": []
  }
 ],
 "metadata": {
  "kernelspec": {
   "display_name": "Python 3 (ipykernel)",
   "language": "python",
   "name": "python3"
  },
  "language_info": {
   "codemirror_mode": {
    "name": "ipython",
    "version": 3
   },
   "file_extension": ".py",
   "mimetype": "text/x-python",
   "name": "python",
   "nbconvert_exporter": "python",
   "pygments_lexer": "ipython3",
   "version": "3.9.7"
  }
 },
 "nbformat": 4,
 "nbformat_minor": 5
}
