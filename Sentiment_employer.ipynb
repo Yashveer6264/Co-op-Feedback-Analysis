{
 "cells": [
  {
   "cell_type": "code",
   "execution_count": 1,
   "id": "ca7a01a3-fb23-4afd-aa80-6ecc05c6e9f0",
   "metadata": {},
   "outputs": [],
   "source": [
    "import pandas as pd\n",
    "import numpy as np\n",
    "import matplotlib.pyplot as plt\n",
    "import seaborn as sns\n",
    "\n",
    "plt.style.use('ggplot')\n",
    "\n",
    "import nltk"
   ]
  },
  {
   "cell_type": "code",
   "execution_count": 2,
   "id": "76208731-6c7b-436c-bb48-a407fb2844c1",
   "metadata": {},
   "outputs": [
    {
     "name": "stdout",
     "output_type": "stream",
     "text": [
      "(4374, 13)\n",
      "(4374, 13)\n"
     ]
    }
   ],
   "source": [
    "# Read in data\n",
    "df = pd.read_excel('Employer_lemmatized_data.xlsx', engine = \"openpyxl\")\n",
    "print(df.shape)\n",
    "\n",
    "print(df.shape)"
   ]
  },
  {
   "cell_type": "markdown",
   "id": "ce17d444-81ed-4f41-bb59-5e6f368f0556",
   "metadata": {},
   "source": [
    "## Basic NLTK"
   ]
  },
  {
   "cell_type": "markdown",
   "id": "fba56dc5-4035-47ff-bf2e-56c0459a8c0a",
   "metadata": {},
   "source": [
    "# Step 1. VADER Seniment Scoring\n",
    "### We will use NLTK's SentimentIntensityAnalyzer to get the neg/neu/pos scores of the text.\n",
    "\n",
    "    This uses a \"bag of words\" approach:\n",
    "    Stop words are removed\n",
    "    each word is scored and combined to a total score."
   ]
  },
  {
   "cell_type": "code",
   "execution_count": 3,
   "id": "83677f3f-4da6-4d02-b39d-f1fc8eb0c660",
   "metadata": {},
   "outputs": [],
   "source": [
    "from nltk.sentiment import SentimentIntensityAnalyzer\n",
    "from tqdm.notebook import tqdm\n",
    "\n",
    "sia = SentimentIntensityAnalyzer()"
   ]
  },
  {
   "cell_type": "code",
   "execution_count": 4,
   "id": "fb841e73-f1fe-498b-afc7-f470aeb92716",
   "metadata": {},
   "outputs": [
    {
     "data": {
      "text/html": [
       "<div>\n",
       "<style scoped>\n",
       "    .dataframe tbody tr th:only-of-type {\n",
       "        vertical-align: middle;\n",
       "    }\n",
       "\n",
       "    .dataframe tbody tr th {\n",
       "        vertical-align: top;\n",
       "    }\n",
       "\n",
       "    .dataframe thead th {\n",
       "        text-align: right;\n",
       "    }\n",
       "</style>\n",
       "<table border=\"1\" class=\"dataframe\">\n",
       "  <thead>\n",
       "    <tr style=\"text-align: right;\">\n",
       "      <th></th>\n",
       "      <th>Respondent ID</th>\n",
       "      <th>Terms</th>\n",
       "      <th>Class (BOT)</th>\n",
       "      <th>College Code</th>\n",
       "      <th>Major Code</th>\n",
       "      <th>Conc</th>\n",
       "      <th>Co-op #</th>\n",
       "      <th>Citizenship Status</th>\n",
       "      <th>What are the student's strengths?</th>\n",
       "      <th>What are the student's weaknesses/areas for improvement?</th>\n",
       "      <th>What changes, if any, would you suggest for the academic preparation of this student?</th>\n",
       "      <th>year</th>\n",
       "      <th>unique_id</th>\n",
       "    </tr>\n",
       "  </thead>\n",
       "  <tbody>\n",
       "    <tr>\n",
       "      <th>0</th>\n",
       "      <td>477</td>\n",
       "      <td>201615-201625</td>\n",
       "      <td>JR</td>\n",
       "      <td>BE</td>\n",
       "      <td>ECON</td>\n",
       "      <td>5COP</td>\n",
       "      <td>Third</td>\n",
       "      <td>International</td>\n",
       "      <td>feel willing direct</td>\n",
       "      <td>show modest initiative low energy participant ...</td>\n",
       "      <td>math accounting coursework</td>\n",
       "      <td>2016</td>\n",
       "      <td>NaN</td>\n",
       "    </tr>\n",
       "    <tr>\n",
       "      <th>1</th>\n",
       "      <td>710</td>\n",
       "      <td>201615-201625</td>\n",
       "      <td>SR</td>\n",
       "      <td>BE</td>\n",
       "      <td>ECON</td>\n",
       "      <td>4COP</td>\n",
       "      <td>Only</td>\n",
       "      <td>International</td>\n",
       "      <td>high level intellectual curiosity ask very goo...</td>\n",
       "      <td>prioritize workload escalate issue soon area i...</td>\n",
       "      <td>think exposure valuation technique private pub...</td>\n",
       "      <td>2016</td>\n",
       "      <td>NaN</td>\n",
       "    </tr>\n",
       "    <tr>\n",
       "      <th>2</th>\n",
       "      <td>811</td>\n",
       "      <td>201615-201625</td>\n",
       "      <td>PJ</td>\n",
       "      <td>BE</td>\n",
       "      <td>ECON</td>\n",
       "      <td>5COP</td>\n",
       "      <td>Second</td>\n",
       "      <td>US Citizen</td>\n",
       "      <td>willing able willing ask question frame intell...</td>\n",
       "      <td>additional exposure understand preferred caree...</td>\n",
       "      <td>plan pursue long term opportunity continue inc...</td>\n",
       "      <td>2016</td>\n",
       "      <td>NaN</td>\n",
       "    </tr>\n",
       "    <tr>\n",
       "      <th>3</th>\n",
       "      <td>837</td>\n",
       "      <td>201615-201625</td>\n",
       "      <td>JR</td>\n",
       "      <td>BE</td>\n",
       "      <td>ECON</td>\n",
       "      <td>5COP</td>\n",
       "      <td>Third</td>\n",
       "      <td>US Citizen</td>\n",
       "      <td>antonio outgoing great attitude work place</td>\n",
       "      <td>student fulfil need position</td>\n",
       "      <td>NaN</td>\n",
       "      <td>2016</td>\n",
       "      <td>NaN</td>\n",
       "    </tr>\n",
       "    <tr>\n",
       "      <th>4</th>\n",
       "      <td>1252</td>\n",
       "      <td>201615-201625</td>\n",
       "      <td>PJ</td>\n",
       "      <td>BE</td>\n",
       "      <td>ECON</td>\n",
       "      <td>5COP</td>\n",
       "      <td>Second</td>\n",
       "      <td>US Citizen</td>\n",
       "      <td>matthew skilled excel learn accomplish necessa...</td>\n",
       "      <td>matthew slow worker take long necessary finish...</td>\n",
       "      <td>strong focus personal finance like tax law fil...</td>\n",
       "      <td>2016</td>\n",
       "      <td>NaN</td>\n",
       "    </tr>\n",
       "  </tbody>\n",
       "</table>\n",
       "</div>"
      ],
      "text/plain": [
       "   Respondent ID          Terms Class (BOT) College Code Major Code  Conc  \\\n",
       "0            477  201615-201625          JR           BE       ECON  5COP   \n",
       "1            710  201615-201625          SR           BE       ECON  4COP   \n",
       "2            811  201615-201625          PJ           BE       ECON  5COP   \n",
       "3            837  201615-201625          JR           BE       ECON  5COP   \n",
       "4           1252  201615-201625          PJ           BE       ECON  5COP   \n",
       "\n",
       "  Co-op # Citizenship Status  \\\n",
       "0   Third      International   \n",
       "1    Only      International   \n",
       "2  Second         US Citizen   \n",
       "3   Third         US Citizen   \n",
       "4  Second         US Citizen   \n",
       "\n",
       "                   What are the student's strengths?  \\\n",
       "0                                feel willing direct   \n",
       "1  high level intellectual curiosity ask very goo...   \n",
       "2  willing able willing ask question frame intell...   \n",
       "3         antonio outgoing great attitude work place   \n",
       "4  matthew skilled excel learn accomplish necessa...   \n",
       "\n",
       "  What are the student's weaknesses/areas for improvement?  \\\n",
       "0  show modest initiative low energy participant ...         \n",
       "1  prioritize workload escalate issue soon area i...         \n",
       "2  additional exposure understand preferred caree...         \n",
       "3                       student fulfil need position         \n",
       "4  matthew slow worker take long necessary finish...         \n",
       "\n",
       "  What changes, if any, would you suggest for the academic preparation of this student?  \\\n",
       "0                         math accounting coursework                                      \n",
       "1  think exposure valuation technique private pub...                                      \n",
       "2  plan pursue long term opportunity continue inc...                                      \n",
       "3                                                NaN                                      \n",
       "4  strong focus personal finance like tax law fil...                                      \n",
       "\n",
       "   year  unique_id  \n",
       "0  2016        NaN  \n",
       "1  2016        NaN  \n",
       "2  2016        NaN  \n",
       "3  2016        NaN  \n",
       "4  2016        NaN  "
      ]
     },
     "execution_count": 4,
     "metadata": {},
     "output_type": "execute_result"
    }
   ],
   "source": [
    "df.head()"
   ]
  },
  {
   "cell_type": "markdown",
   "id": "663f3040-4ff4-4dfc-91cf-e45947370052",
   "metadata": {},
   "source": [
    "# Polarity score on entire data set"
   ]
  },
  {
   "cell_type": "code",
   "execution_count": 5,
   "id": "f8d994e8-4841-4e31-9b58-e7c7c39d5208",
   "metadata": {},
   "outputs": [
    {
     "data": {
      "application/vnd.jupyter.widget-view+json": {
       "model_id": "3c488fa4358f4d49b91d48fc20f7eac8",
       "version_major": 2,
       "version_minor": 0
      },
      "text/plain": [
       "  0%|          | 0/4374 [00:00<?, ?it/s]"
      ]
     },
     "metadata": {},
     "output_type": "display_data"
    }
   ],
   "source": [
    "# Run the polarity score on the entire dataset\n",
    "res = {}\n",
    "for i, row in tqdm(df.iterrows(), total=len(df)):\n",
    "    text = row[\"What changes, if any, would you suggest for the academic preparation of this student?\"]\n",
    "    myid = row['Respondent ID']\n",
    "    res[myid] = sia.polarity_scores(str(text))"
   ]
  },
  {
   "cell_type": "code",
   "execution_count": 6,
   "id": "bee456d8-d9ec-4163-837e-a818ae8e35ab",
   "metadata": {},
   "outputs": [
    {
     "data": {
      "text/plain": [
       "{'neg': 0.0, 'neu': 1.0, 'pos': 0.0, 'compound': 0.0}"
      ]
     },
     "execution_count": 6,
     "metadata": {},
     "output_type": "execute_result"
    }
   ],
   "source": [
    "res[2301]"
   ]
  },
  {
   "cell_type": "code",
   "execution_count": 7,
   "id": "7a239889-155a-4964-95dd-8a0880b3a308",
   "metadata": {},
   "outputs": [],
   "source": [
    "senti = pd.DataFrame(res).T"
   ]
  },
  {
   "cell_type": "code",
   "execution_count": 8,
   "id": "aeccab4d-ecf4-44c9-8eab-7e12453d6867",
   "metadata": {},
   "outputs": [],
   "source": [
    "senti = pd.DataFrame(res).T\n",
    "senti = senti.reset_index().rename(columns = {\"index\": \"Respondent ID\", \"compound\": \"Sentiment Score\"})\n",
    "senti = senti.merge(df, how = \"left\")                    "
   ]
  },
  {
   "cell_type": "code",
   "execution_count": 9,
   "id": "43fac917-52bc-46d8-8bf1-2f4485c0d100",
   "metadata": {},
   "outputs": [
    {
     "data": {
      "text/html": [
       "<div>\n",
       "<style scoped>\n",
       "    .dataframe tbody tr th:only-of-type {\n",
       "        vertical-align: middle;\n",
       "    }\n",
       "\n",
       "    .dataframe tbody tr th {\n",
       "        vertical-align: top;\n",
       "    }\n",
       "\n",
       "    .dataframe thead th {\n",
       "        text-align: right;\n",
       "    }\n",
       "</style>\n",
       "<table border=\"1\" class=\"dataframe\">\n",
       "  <thead>\n",
       "    <tr style=\"text-align: right;\">\n",
       "      <th></th>\n",
       "      <th>Respondent ID</th>\n",
       "      <th>neg</th>\n",
       "      <th>neu</th>\n",
       "      <th>pos</th>\n",
       "      <th>Sentiment Score</th>\n",
       "      <th>Terms</th>\n",
       "      <th>Class (BOT)</th>\n",
       "      <th>College Code</th>\n",
       "      <th>Major Code</th>\n",
       "      <th>Conc</th>\n",
       "      <th>Co-op #</th>\n",
       "      <th>Citizenship Status</th>\n",
       "      <th>What are the student's strengths?</th>\n",
       "      <th>What are the student's weaknesses/areas for improvement?</th>\n",
       "      <th>What changes, if any, would you suggest for the academic preparation of this student?</th>\n",
       "      <th>year</th>\n",
       "      <th>unique_id</th>\n",
       "    </tr>\n",
       "  </thead>\n",
       "  <tbody>\n",
       "    <tr>\n",
       "      <th>0</th>\n",
       "      <td>477</td>\n",
       "      <td>0.0</td>\n",
       "      <td>1.000</td>\n",
       "      <td>0.000</td>\n",
       "      <td>0.0000</td>\n",
       "      <td>201615-201625</td>\n",
       "      <td>JR</td>\n",
       "      <td>BE</td>\n",
       "      <td>ECON</td>\n",
       "      <td>5COP</td>\n",
       "      <td>Third</td>\n",
       "      <td>International</td>\n",
       "      <td>feel willing direct</td>\n",
       "      <td>show modest initiative low energy participant ...</td>\n",
       "      <td>math accounting coursework</td>\n",
       "      <td>2016</td>\n",
       "      <td>NaN</td>\n",
       "    </tr>\n",
       "    <tr>\n",
       "      <th>1</th>\n",
       "      <td>710</td>\n",
       "      <td>0.0</td>\n",
       "      <td>0.250</td>\n",
       "      <td>0.750</td>\n",
       "      <td>0.4588</td>\n",
       "      <td>201615-201625</td>\n",
       "      <td>SR</td>\n",
       "      <td>BE</td>\n",
       "      <td>ECON</td>\n",
       "      <td>4COP</td>\n",
       "      <td>Only</td>\n",
       "      <td>International</td>\n",
       "      <td>high level intellectual curiosity ask very goo...</td>\n",
       "      <td>prioritize workload escalate issue soon area i...</td>\n",
       "      <td>think exposure valuation technique private pub...</td>\n",
       "      <td>2016</td>\n",
       "      <td>NaN</td>\n",
       "    </tr>\n",
       "    <tr>\n",
       "      <th>2</th>\n",
       "      <td>710</td>\n",
       "      <td>0.0</td>\n",
       "      <td>0.250</td>\n",
       "      <td>0.750</td>\n",
       "      <td>0.4588</td>\n",
       "      <td>201815-201825</td>\n",
       "      <td>PJ</td>\n",
       "      <td>B</td>\n",
       "      <td>ACCT</td>\n",
       "      <td>5COP</td>\n",
       "      <td>Second</td>\n",
       "      <td>US Citizen</td>\n",
       "      <td>anjli complete task time work timeline willing...</td>\n",
       "      <td>anjli expand knowledge base build relationship...</td>\n",
       "      <td>excel formula</td>\n",
       "      <td>2018</td>\n",
       "      <td>NaN</td>\n",
       "    </tr>\n",
       "    <tr>\n",
       "      <th>3</th>\n",
       "      <td>811</td>\n",
       "      <td>0.0</td>\n",
       "      <td>0.661</td>\n",
       "      <td>0.339</td>\n",
       "      <td>0.7717</td>\n",
       "      <td>201615-201625</td>\n",
       "      <td>PJ</td>\n",
       "      <td>BE</td>\n",
       "      <td>ECON</td>\n",
       "      <td>5COP</td>\n",
       "      <td>Second</td>\n",
       "      <td>US Citizen</td>\n",
       "      <td>willing able willing ask question frame intell...</td>\n",
       "      <td>additional exposure understand preferred caree...</td>\n",
       "      <td>plan pursue long term opportunity continue inc...</td>\n",
       "      <td>2016</td>\n",
       "      <td>NaN</td>\n",
       "    </tr>\n",
       "    <tr>\n",
       "      <th>4</th>\n",
       "      <td>811</td>\n",
       "      <td>0.0</td>\n",
       "      <td>0.661</td>\n",
       "      <td>0.339</td>\n",
       "      <td>0.7717</td>\n",
       "      <td>201715-201725</td>\n",
       "      <td>SR</td>\n",
       "      <td>B</td>\n",
       "      <td>FIN</td>\n",
       "      <td>5COP</td>\n",
       "      <td>Second</td>\n",
       "      <td>US Citizen</td>\n",
       "      <td>course michael dthemonstrate ability learn ver...</td>\n",
       "      <td>note formal audit engagthement work product im...</td>\n",
       "      <td>michael hard worker team player eager learn te...</td>\n",
       "      <td>2017</td>\n",
       "      <td>NaN</td>\n",
       "    </tr>\n",
       "  </tbody>\n",
       "</table>\n",
       "</div>"
      ],
      "text/plain": [
       "   Respondent ID  neg    neu    pos  Sentiment Score          Terms  \\\n",
       "0            477  0.0  1.000  0.000           0.0000  201615-201625   \n",
       "1            710  0.0  0.250  0.750           0.4588  201615-201625   \n",
       "2            710  0.0  0.250  0.750           0.4588  201815-201825   \n",
       "3            811  0.0  0.661  0.339           0.7717  201615-201625   \n",
       "4            811  0.0  0.661  0.339           0.7717  201715-201725   \n",
       "\n",
       "  Class (BOT) College Code Major Code  Conc Co-op # Citizenship Status  \\\n",
       "0          JR           BE       ECON  5COP   Third      International   \n",
       "1          SR           BE       ECON  4COP    Only      International   \n",
       "2          PJ            B       ACCT  5COP  Second         US Citizen   \n",
       "3          PJ           BE       ECON  5COP  Second         US Citizen   \n",
       "4          SR            B        FIN  5COP  Second         US Citizen   \n",
       "\n",
       "                   What are the student's strengths?  \\\n",
       "0                                feel willing direct   \n",
       "1  high level intellectual curiosity ask very goo...   \n",
       "2  anjli complete task time work timeline willing...   \n",
       "3  willing able willing ask question frame intell...   \n",
       "4  course michael dthemonstrate ability learn ver...   \n",
       "\n",
       "  What are the student's weaknesses/areas for improvement?  \\\n",
       "0  show modest initiative low energy participant ...         \n",
       "1  prioritize workload escalate issue soon area i...         \n",
       "2  anjli expand knowledge base build relationship...         \n",
       "3  additional exposure understand preferred caree...         \n",
       "4  note formal audit engagthement work product im...         \n",
       "\n",
       "  What changes, if any, would you suggest for the academic preparation of this student?  \\\n",
       "0                         math accounting coursework                                      \n",
       "1  think exposure valuation technique private pub...                                      \n",
       "2                                      excel formula                                      \n",
       "3  plan pursue long term opportunity continue inc...                                      \n",
       "4  michael hard worker team player eager learn te...                                      \n",
       "\n",
       "   year  unique_id  \n",
       "0  2016        NaN  \n",
       "1  2016        NaN  \n",
       "2  2018        NaN  \n",
       "3  2016        NaN  \n",
       "4  2017        NaN  "
      ]
     },
     "execution_count": 9,
     "metadata": {},
     "output_type": "execute_result"
    }
   ],
   "source": [
    "senti.head()"
   ]
  },
  {
   "cell_type": "markdown",
   "id": "4561013e-721d-40d2-b6a3-4c35d36e8c2d",
   "metadata": {},
   "source": [
    "## Sentiment score and our data set merged together"
   ]
  },
  {
   "cell_type": "code",
   "execution_count": 10,
   "id": "dbb0ab78-231a-462d-8381-f2674a90a0c7",
   "metadata": {},
   "outputs": [
    {
     "data": {
      "image/png": "[encoded data removed]",
      "text/plain": [
       "<Figure size 432x288 with 1 Axes>"
      ]
     },
     "metadata": {
      "needs_background": "light"
     },
     "output_type": "display_data"
    }
   ],
   "source": [
    "\n",
    "ax = sns.barplot(data=senti, x='year', y='Sentiment Score', estimator='mean', errorbar=('ci', 95))\n",
    "\n",
    "ax.set_title('Academic Preparation sentiment by year')\n",
    "plt.show()"
   ]
  },
  {
   "cell_type": "code",
   "execution_count": 11,
   "id": "1b9d9391-2af1-4d8e-8949-53a5afac7091",
   "metadata": {},
   "outputs": [
    {
     "data": {
      "text/html": [
       "<div>\n",
       "<style scoped>\n",
       "    .dataframe tbody tr th:only-of-type {\n",
       "        vertical-align: middle;\n",
       "    }\n",
       "\n",
       "    .dataframe tbody tr th {\n",
       "        vertical-align: top;\n",
       "    }\n",
       "\n",
       "    .dataframe thead th {\n",
       "        text-align: right;\n",
       "    }\n",
       "</style>\n",
       "<table border=\"1\" class=\"dataframe\">\n",
       "  <thead>\n",
       "    <tr style=\"text-align: right;\">\n",
       "      <th></th>\n",
       "      <th>Respondent ID</th>\n",
       "      <th>neg</th>\n",
       "      <th>neu</th>\n",
       "      <th>pos</th>\n",
       "      <th>Sentiment Score</th>\n",
       "      <th>Terms</th>\n",
       "      <th>Class (BOT)</th>\n",
       "      <th>College Code</th>\n",
       "      <th>Major Code</th>\n",
       "      <th>Conc</th>\n",
       "      <th>Co-op #</th>\n",
       "      <th>Citizenship Status</th>\n",
       "      <th>What are the student's strengths?</th>\n",
       "      <th>What are the student's weaknesses/areas for improvement?</th>\n",
       "      <th>What changes, if any, would you suggest for the academic preparation of this student?</th>\n",
       "      <th>year</th>\n",
       "      <th>unique_id</th>\n",
       "      <th>sentiment</th>\n",
       "    </tr>\n",
       "  </thead>\n",
       "  <tbody>\n",
       "    <tr>\n",
       "      <th>0</th>\n",
       "      <td>477</td>\n",
       "      <td>0.0</td>\n",
       "      <td>1.000</td>\n",
       "      <td>0.000</td>\n",
       "      <td>0.0000</td>\n",
       "      <td>201615-201625</td>\n",
       "      <td>JR</td>\n",
       "      <td>BE</td>\n",
       "      <td>ECON</td>\n",
       "      <td>5COP</td>\n",
       "      <td>Third</td>\n",
       "      <td>International</td>\n",
       "      <td>feel willing direct</td>\n",
       "      <td>show modest initiative low energy participant ...</td>\n",
       "      <td>math accounting coursework</td>\n",
       "      <td>2016</td>\n",
       "      <td>NaN</td>\n",
       "      <td>Neutral</td>\n",
       "    </tr>\n",
       "    <tr>\n",
       "      <th>1</th>\n",
       "      <td>710</td>\n",
       "      <td>0.0</td>\n",
       "      <td>0.250</td>\n",
       "      <td>0.750</td>\n",
       "      <td>0.4588</td>\n",
       "      <td>201615-201625</td>\n",
       "      <td>SR</td>\n",
       "      <td>BE</td>\n",
       "      <td>ECON</td>\n",
       "      <td>4COP</td>\n",
       "      <td>Only</td>\n",
       "      <td>International</td>\n",
       "      <td>high level intellectual curiosity ask very goo...</td>\n",
       "      <td>prioritize workload escalate issue soon area i...</td>\n",
       "      <td>think exposure valuation technique private pub...</td>\n",
       "      <td>2016</td>\n",
       "      <td>NaN</td>\n",
       "      <td>Neutral</td>\n",
       "    </tr>\n",
       "    <tr>\n",
       "      <th>2</th>\n",
       "      <td>710</td>\n",
       "      <td>0.0</td>\n",
       "      <td>0.250</td>\n",
       "      <td>0.750</td>\n",
       "      <td>0.4588</td>\n",
       "      <td>201815-201825</td>\n",
       "      <td>PJ</td>\n",
       "      <td>B</td>\n",
       "      <td>ACCT</td>\n",
       "      <td>5COP</td>\n",
       "      <td>Second</td>\n",
       "      <td>US Citizen</td>\n",
       "      <td>anjli complete task time work timeline willing...</td>\n",
       "      <td>anjli expand knowledge base build relationship...</td>\n",
       "      <td>excel formula</td>\n",
       "      <td>2018</td>\n",
       "      <td>NaN</td>\n",
       "      <td>Neutral</td>\n",
       "    </tr>\n",
       "    <tr>\n",
       "      <th>3</th>\n",
       "      <td>811</td>\n",
       "      <td>0.0</td>\n",
       "      <td>0.661</td>\n",
       "      <td>0.339</td>\n",
       "      <td>0.7717</td>\n",
       "      <td>201615-201625</td>\n",
       "      <td>PJ</td>\n",
       "      <td>BE</td>\n",
       "      <td>ECON</td>\n",
       "      <td>5COP</td>\n",
       "      <td>Second</td>\n",
       "      <td>US Citizen</td>\n",
       "      <td>willing able willing ask question frame intell...</td>\n",
       "      <td>additional exposure understand preferred caree...</td>\n",
       "      <td>plan pursue long term opportunity continue inc...</td>\n",
       "      <td>2016</td>\n",
       "      <td>NaN</td>\n",
       "      <td>Positive</td>\n",
       "    </tr>\n",
       "    <tr>\n",
       "      <th>4</th>\n",
       "      <td>811</td>\n",
       "      <td>0.0</td>\n",
       "      <td>0.661</td>\n",
       "      <td>0.339</td>\n",
       "      <td>0.7717</td>\n",
       "      <td>201715-201725</td>\n",
       "      <td>SR</td>\n",
       "      <td>B</td>\n",
       "      <td>FIN</td>\n",
       "      <td>5COP</td>\n",
       "      <td>Second</td>\n",
       "      <td>US Citizen</td>\n",
       "      <td>course michael dthemonstrate ability learn ver...</td>\n",
       "      <td>note formal audit engagthement work product im...</td>\n",
       "      <td>michael hard worker team player eager learn te...</td>\n",
       "      <td>2017</td>\n",
       "      <td>NaN</td>\n",
       "      <td>Positive</td>\n",
       "    </tr>\n",
       "  </tbody>\n",
       "</table>\n",
       "</div>"
      ],
      "text/plain": [
       "   Respondent ID  neg    neu    pos  Sentiment Score          Terms  \\\n",
       "0            477  0.0  1.000  0.000           0.0000  201615-201625   \n",
       "1            710  0.0  0.250  0.750           0.4588  201615-201625   \n",
       "2            710  0.0  0.250  0.750           0.4588  201815-201825   \n",
       "3            811  0.0  0.661  0.339           0.7717  201615-201625   \n",
       "4            811  0.0  0.661  0.339           0.7717  201715-201725   \n",
       "\n",
       "  Class (BOT) College Code Major Code  Conc Co-op # Citizenship Status  \\\n",
       "0          JR           BE       ECON  5COP   Third      International   \n",
       "1          SR           BE       ECON  4COP    Only      International   \n",
       "2          PJ            B       ACCT  5COP  Second         US Citizen   \n",
       "3          PJ           BE       ECON  5COP  Second         US Citizen   \n",
       "4          SR            B        FIN  5COP  Second         US Citizen   \n",
       "\n",
       "                   What are the student's strengths?  \\\n",
       "0                                feel willing direct   \n",
       "1  high level intellectual curiosity ask very goo...   \n",
       "2  anjli complete task time work timeline willing...   \n",
       "3  willing able willing ask question frame intell...   \n",
       "4  course michael dthemonstrate ability learn ver...   \n",
       "\n",
       "  What are the student's weaknesses/areas for improvement?  \\\n",
       "0  show modest initiative low energy participant ...         \n",
       "1  prioritize workload escalate issue soon area i...         \n",
       "2  anjli expand knowledge base build relationship...         \n",
       "3  additional exposure understand preferred caree...         \n",
       "4  note formal audit engagthement work product im...         \n",
       "\n",
       "  What changes, if any, would you suggest for the academic preparation of this student?  \\\n",
       "0                         math accounting coursework                                      \n",
       "1  think exposure valuation technique private pub...                                      \n",
       "2                                      excel formula                                      \n",
       "3  plan pursue long term opportunity continue inc...                                      \n",
       "4  michael hard worker team player eager learn te...                                      \n",
       "\n",
       "   year  unique_id sentiment  \n",
       "0  2016        NaN   Neutral  \n",
       "1  2016        NaN   Neutral  \n",
       "2  2018        NaN   Neutral  \n",
       "3  2016        NaN  Positive  \n",
       "4  2017        NaN  Positive  "
      ]
     },
     "execution_count": 11,
     "metadata": {},
     "output_type": "execute_result"
    }
   ],
   "source": [
    "senti['sentiment'] = senti['Sentiment Score'].apply(lambda c: 'Positive' if c >=0.5 else ('Negative' if c < 0 else 'Neutral'))\n",
    "\n",
    "senti.head(5)"
   ]
  },
  {
   "cell_type": "code",
   "execution_count": 14,
   "id": "dae3306c-7562-4a4a-aa5c-1a00a5fc7e14",
   "metadata": {},
   "outputs": [
    {
     "data": {
      "text/plain": [
       "<AxesSubplot:title={'center':'All years'}, ylabel='sentiment'>"
      ]
     },
     "execution_count": 14,
     "metadata": {},
     "output_type": "execute_result"
    },
    {
     "data": {
      "image/png": "[encoded data removed]",
      "text/plain": [
       "<Figure size 432x288 with 1 Axes>"
      ]
     },
     "metadata": {},
     "output_type": "display_data"
    }
   ],
   "source": [
    "senti[\"sentiment\"].value_counts().plot.pie(y='All years', title=\"All years\", legend=False, \\\n",
    "                   autopct='%1.1f%%', explode=(0, 0, 0.1), \\\n",
    "                   shadow=True, startangle=0)"
   ]
  },
  {
   "cell_type": "code",
   "execution_count": 17,
   "id": "101bc234-aab0-45d5-b8c7-d78940a972c6",
   "metadata": {},
   "outputs": [
    {
     "data": {
      "text/plain": [
       "<AxesSubplot:title={'center':'All years'}, ylabel='sentiment'>"
      ]
     },
     "execution_count": 17,
     "metadata": {},
     "output_type": "execute_result"
    },
    {
     "data": {
      "image/png": "[encoded data removed]",
      "text/plain": [
       "<Figure size 432x288 with 1 Axes>"
      ]
     },
     "metadata": {},
     "output_type": "display_data"
    }
   ],
   "source": [
    "filt = senti[\"year\"] == 2015\n",
    "senti.loc[filt][\"sentiment\"].value_counts().plot.pie(y='2015', title=\"All years\", legend=False, \\\n",
    "                   autopct='%1.1f%%', explode=(0, 0, 0.1), \\\n",
    "                   shadow=True, startangle=0)\n"
   ]
  },
  {
   "cell_type": "code",
   "execution_count": 18,
   "id": "2b1acf84-66ce-48d6-ae55-bb632b00fb8b",
   "metadata": {},
   "outputs": [
    {
     "data": {
      "text/plain": [
       "<AxesSubplot:title={'center':'2016'}, ylabel='sentiment'>"
      ]
     },
     "execution_count": 18,
     "metadata": {},
     "output_type": "execute_result"
    },
    {
     "data": {
      "image/png": "[encoded data removed]",
      "text/plain": [
       "<Figure size 432x288 with 1 Axes>"
      ]
     },
     "metadata": {},
     "output_type": "display_data"
    }
   ],
   "source": [
    "filt = senti[\"year\"] == 2016\n",
    "senti.loc[filt][\"sentiment\"].value_counts().plot.pie(y='All years', title=\"2016\", legend=False, \\\n",
    "                   autopct='%1.1f%%', explode=(0, 0, 0.1), \\\n",
    "                   shadow=True, startangle=0)"
   ]
  },
  {
   "cell_type": "code",
   "execution_count": 19,
   "id": "1220a1df-5ac1-4766-ad41-2e209f3be8d0",
   "metadata": {},
   "outputs": [
    {
     "data": {
      "text/plain": [
       "<AxesSubplot:title={'center':'2017'}, ylabel='sentiment'>"
      ]
     },
     "execution_count": 19,
     "metadata": {},
     "output_type": "execute_result"
    },
    {
     "data": {
      "image/png": "[encoded data removed]",
      "text/plain": [
       "<Figure size 432x288 with 1 Axes>"
      ]
     },
     "metadata": {},
     "output_type": "display_data"
    }
   ],
   "source": [
    "filt = senti[\"year\"] == 2017\n",
    "senti.loc[filt][\"sentiment\"].value_counts().plot.pie(y='All years', title=\"2017\", legend=False, \\\n",
    "                   autopct='%1.1f%%', explode=(0, 0, 0.1), \\\n",
    "                   shadow=True, startangle=0)"
   ]
  },
  {
   "cell_type": "code",
   "execution_count": 20,
   "id": "7d0ced1b-630f-474e-a4f4-7fccb29d02a3",
   "metadata": {},
   "outputs": [
    {
     "data": {
      "text/plain": [
       "<AxesSubplot:title={'center':'2018'}, ylabel='sentiment'>"
      ]
     },
     "execution_count": 20,
     "metadata": {},
     "output_type": "execute_result"
    },
    {
     "data": {
      "image/png": "[encoded data removed]",
      "text/plain": [
       "<Figure size 432x288 with 1 Axes>"
      ]
     },
     "metadata": {},
     "output_type": "display_data"
    }
   ],
   "source": [
    "filt = senti[\"year\"] == 2018\n",
    "senti.loc[filt][\"sentiment\"].value_counts().plot.pie(y='All years', title=\"2018\", legend=False, \\\n",
    "                   autopct='%1.1f%%', explode=(0, 0, 0.1), \\\n",
    "                   shadow=True, startangle=0)"
   ]
  },
  {
   "cell_type": "code",
   "execution_count": 21,
   "id": "a3f32286-652e-4cea-8dd2-d1725bf7f109",
   "metadata": {},
   "outputs": [
    {
     "data": {
      "text/plain": [
       "<AxesSubplot:title={'center':'2019'}, ylabel='sentiment'>"
      ]
     },
     "execution_count": 21,
     "metadata": {},
     "output_type": "execute_result"
    },
    {
     "data": {
      "image/png": "[encoded data removed]",
      "text/plain": [
       "<Figure size 432x288 with 1 Axes>"
      ]
     },
     "metadata": {},
     "output_type": "display_data"
    }
   ],
   "source": [
    "filt = senti[\"year\"] == 2019\n",
    "senti.loc[filt][\"sentiment\"].value_counts().plot.pie(y='All years', title=\"2019\", legend=False, \\\n",
    "                   autopct='%1.1f%%', explode=(0, 0, 0.1), \\\n",
    "                   shadow=True, startangle=0)"
   ]
  },
  {
   "cell_type": "code",
   "execution_count": 22,
   "id": "f4f383f9-0a70-4000-b4d2-e48cdf460da0",
   "metadata": {},
   "outputs": [
    {
     "data": {
      "text/plain": [
       "<AxesSubplot:title={'center':'2020'}, ylabel='sentiment'>"
      ]
     },
     "execution_count": 22,
     "metadata": {},
     "output_type": "execute_result"
    },
    {
     "data": {
      "image/png": "[encoded data removed]",
      "text/plain": [
       "<Figure size 432x288 with 1 Axes>"
      ]
     },
     "metadata": {},
     "output_type": "display_data"
    }
   ],
   "source": [
    "filt = senti[\"year\"] == 2020\n",
    "senti.loc[filt][\"sentiment\"].value_counts().plot.pie(y='All years', title=\"2020\", legend=False, \\\n",
    "                   autopct='%1.1f%%', explode=(0, 0, 0.1), \\\n",
    "                   shadow=True, startangle=0)"
   ]
  },
  {
   "cell_type": "code",
   "execution_count": null,
   "id": "ce16af19-90c6-49a2-9396-b0a1a93e4990",
   "metadata": {},
   "outputs": [],
   "source": []
  },
  {
   "cell_type": "code",
   "execution_count": null,
   "id": "d9f1f9a2-4376-42dc-876f-d113b32318a5",
   "metadata": {},
   "outputs": [],
   "source": []
  }
 ],
 "metadata": {
  "kernelspec": {
   "display_name": "Python 3 (ipykernel)",
   "language": "python",
   "name": "python3"
  },
  "language_info": {
   "codemirror_mode": {
    "name": "ipython",
    "version": 3
   },
   "file_extension": ".py",
   "mimetype": "text/x-python",
   "name": "python",
   "nbconvert_exporter": "python",
   "pygments_lexer": "ipython3",
   "version": "3.9.7"
  }
 },
 "nbformat": 4,
 "nbformat_minor": 5
}
